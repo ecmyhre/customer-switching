{
 "cells": [
  {
   "cell_type": "markdown",
   "metadata": {},
   "source": [
    "the length of time a customer remains on a subscription is a key metric for us to\n",
    "understand how well we’re serving our customers -- if they stay subscribed for a long time, we\n",
    "know that we’re providing them value."
   ]
  },
  {
   "cell_type": "markdown",
   "metadata": {},
   "source": [
    "Of particular interest is how subscription switching behavior is related to\n",
    "customer retention. In particular, are customers who switch their subscription product more\n",
    "likely to stay subscribed for longer? Does that vary based on which products they’re switching\n",
    "from and to?"
   ]
  },
  {
   "cell_type": "markdown",
   "metadata": {},
   "source": [
    "- `ID` - the id of the subscription, uniquely identifies rows \n",
    "- `viewable_product_id` - the identifier of the product the customer is subscribed to\n",
    "- `created_at` - the timestamp indicating when the subscription started \n",
    "- `quantity` - the number of items sybscriped to (eg a customer could have one subscription to two foaming shave gels) \n",
    "- `user_id` - uniquely identifies a single customer and will appear multiple times for customers with multiple subscriptions \n",
    "- `removed_at` - timestamp indicating when that subscription ended. The column will be blank for subscriptions that havent eneded \n",
    "- `created_by_client_type` - was this subscription created by the customer on the web or by a customer experience associate via admin \n",
    "- `removed_by_client_type` - was this subscription remvoed by the customer on the web or by a customer experience associate via admin \n",
    "\n",
    "- a customer is considered retained untill all of their subscriptions are ended \n",
    "- if, for one customer, you see a particular subscription end and a new subscritopn stat at the same time, thats considered a switch \n",
    "- customers can also add additional products to their subscrition "
   ]
  },
  {
   "cell_type": "code",
   "execution_count": 1,
   "metadata": {},
   "outputs": [],
   "source": [
    "%matplotlib inline \n",
    "%config InlineBackend.figure_format = 'retina'\n",
    "\n",
    "#pandas - DataFrames to organize our data\n",
    "import pandas as pd \n",
    "#numpy - linear algebra and matrices for python\n",
    "import numpy as np  \n",
    "#matplotlib - workhorse plotting library\n",
    "import matplotlib.pyplot as plt \n",
    "from matplotlib import rcParams\n",
    "rcParams['figure.figsize'] = 8,6\n",
    "rcParams['font.family'] = 'sans-serif'\n",
    "rcParams['font.sans-serif'] = ['Tahoma']\n",
    "#seaborn - easy plotting for statistical visualizations, based on plt\n",
    "import seaborn as sns\n",
    "import re "
   ]
  },
  {
   "cell_type": "code",
   "execution_count": 2,
   "metadata": {},
   "outputs": [],
   "source": [
    "# Suppress all warnings just to keep the notebook nice and clean. \n",
    "# This must happen after all imports since numpy actually adds its\n",
    "# RankWarning class back in.\n",
    "import warnings\n",
    "warnings.filterwarnings(\"ignore\")"
   ]
  },
  {
   "cell_type": "code",
   "execution_count": 3,
   "metadata": {},
   "outputs": [],
   "source": [
    "# data path\n",
    "datapath1 = \"harrys.xlsx\""
   ]
  },
  {
   "cell_type": "code",
   "execution_count": 4,
   "metadata": {},
   "outputs": [],
   "source": [
    "# load the excel data into a dataframe\n",
    "data1 = pd.read_excel(datapath1)"
   ]
  },
  {
   "cell_type": "code",
   "execution_count": 5,
   "metadata": {},
   "outputs": [
    {
     "name": "stdout",
     "output_type": "stream",
     "text": [
      "Dataframe dimensions: (9967, 8)\n"
     ]
    },
    {
     "data": {
      "text/html": [
       "<div>\n",
       "<style scoped>\n",
       "    .dataframe tbody tr th:only-of-type {\n",
       "        vertical-align: middle;\n",
       "    }\n",
       "\n",
       "    .dataframe tbody tr th {\n",
       "        vertical-align: top;\n",
       "    }\n",
       "\n",
       "    .dataframe thead th {\n",
       "        text-align: right;\n",
       "    }\n",
       "</style>\n",
       "<table border=\"1\" class=\"dataframe\">\n",
       "  <thead>\n",
       "    <tr style=\"text-align: right;\">\n",
       "      <th></th>\n",
       "      <th>id</th>\n",
       "      <th>viewable_product_id</th>\n",
       "      <th>created_at</th>\n",
       "      <th>quantity</th>\n",
       "      <th>user_id</th>\n",
       "      <th>removed_at</th>\n",
       "      <th>created_by_client_type</th>\n",
       "      <th>removed_by_client_type</th>\n",
       "    </tr>\n",
       "  </thead>\n",
       "  <tbody>\n",
       "    <tr>\n",
       "      <th>column type</th>\n",
       "      <td>int64</td>\n",
       "      <td>int64</td>\n",
       "      <td>datetime64[ns]</td>\n",
       "      <td>int64</td>\n",
       "      <td>int64</td>\n",
       "      <td>datetime64[ns]</td>\n",
       "      <td>object</td>\n",
       "      <td>object</td>\n",
       "    </tr>\n",
       "    <tr>\n",
       "      <th>null values (nb)</th>\n",
       "      <td>0</td>\n",
       "      <td>0</td>\n",
       "      <td>0</td>\n",
       "      <td>0</td>\n",
       "      <td>0</td>\n",
       "      <td>6372</td>\n",
       "      <td>0</td>\n",
       "      <td>6449</td>\n",
       "    </tr>\n",
       "    <tr>\n",
       "      <th>null values (%)</th>\n",
       "      <td>0</td>\n",
       "      <td>0</td>\n",
       "      <td>0</td>\n",
       "      <td>0</td>\n",
       "      <td>0</td>\n",
       "      <td>63.931</td>\n",
       "      <td>0</td>\n",
       "      <td>64.7035</td>\n",
       "    </tr>\n",
       "  </tbody>\n",
       "</table>\n",
       "</div>"
      ],
      "text/plain": [
       "                     id viewable_product_id      created_at quantity user_id  \\\n",
       "column type       int64               int64  datetime64[ns]    int64   int64   \n",
       "null values (nb)      0                   0               0        0       0   \n",
       "null values (%)       0                   0               0        0       0   \n",
       "\n",
       "                      removed_at created_by_client_type removed_by_client_type  \n",
       "column type       datetime64[ns]                 object                 object  \n",
       "null values (nb)            6372                      0                   6449  \n",
       "null values (%)           63.931                      0                64.7035  "
      ]
     },
     "metadata": {},
     "output_type": "display_data"
    },
    {
     "data": {
      "text/html": [
       "<div>\n",
       "<style scoped>\n",
       "    .dataframe tbody tr th:only-of-type {\n",
       "        vertical-align: middle;\n",
       "    }\n",
       "\n",
       "    .dataframe tbody tr th {\n",
       "        vertical-align: top;\n",
       "    }\n",
       "\n",
       "    .dataframe thead th {\n",
       "        text-align: right;\n",
       "    }\n",
       "</style>\n",
       "<table border=\"1\" class=\"dataframe\">\n",
       "  <thead>\n",
       "    <tr style=\"text-align: right;\">\n",
       "      <th></th>\n",
       "      <th>id</th>\n",
       "      <th>viewable_product_id</th>\n",
       "      <th>created_at</th>\n",
       "      <th>quantity</th>\n",
       "      <th>user_id</th>\n",
       "      <th>removed_at</th>\n",
       "      <th>created_by_client_type</th>\n",
       "      <th>removed_by_client_type</th>\n",
       "    </tr>\n",
       "  </thead>\n",
       "  <tbody>\n",
       "    <tr>\n",
       "      <th>0</th>\n",
       "      <td>1493735</td>\n",
       "      <td>511</td>\n",
       "      <td>2016-07-28 12:34:42.906</td>\n",
       "      <td>1</td>\n",
       "      <td>36867</td>\n",
       "      <td>NaT</td>\n",
       "      <td>www</td>\n",
       "      <td>NaN</td>\n",
       "    </tr>\n",
       "    <tr>\n",
       "      <th>1</th>\n",
       "      <td>1607724</td>\n",
       "      <td>490</td>\n",
       "      <td>2016-08-28 19:00:06.840</td>\n",
       "      <td>1</td>\n",
       "      <td>42060</td>\n",
       "      <td>NaT</td>\n",
       "      <td>www</td>\n",
       "      <td>NaN</td>\n",
       "    </tr>\n",
       "  </tbody>\n",
       "</table>\n",
       "</div>"
      ],
      "text/plain": [
       "        id  viewable_product_id              created_at  quantity  user_id  \\\n",
       "0  1493735                  511 2016-07-28 12:34:42.906         1    36867   \n",
       "1  1607724                  490 2016-08-28 19:00:06.840         1    42060   \n",
       "\n",
       "  removed_at created_by_client_type removed_by_client_type  \n",
       "0        NaT                    www                    NaN  \n",
       "1        NaT                    www                    NaN  "
      ]
     },
     "metadata": {},
     "output_type": "display_data"
    }
   ],
   "source": [
    "# get info on the data\n",
    "print('Dataframe dimensions:', data1.shape)\n",
    "tab_info=pd.DataFrame(data1.dtypes).T.rename(index={0:'column type'})\n",
    "tab_info=tab_info.append(pd.DataFrame(data1.isnull().sum()).T.rename(index={0:'null values (nb)'}))\n",
    "tab_info=tab_info.append(pd.DataFrame(data1.isnull().sum()/data1.shape[0]*100).T.\n",
    "                         rename(index={0:'null values (%)'}))\n",
    "display(tab_info)\n",
    "display(data1[:2])"
   ]
  },
  {
   "cell_type": "code",
   "execution_count": 6,
   "metadata": {},
   "outputs": [
    {
     "data": {
      "text/plain": [
       "<matplotlib.axes._subplots.AxesSubplot at 0x1ba524d9e48>"
      ]
     },
     "execution_count": 6,
     "metadata": {},
     "output_type": "execute_result"
    },
    {
     "data": {
      "image/png": "[encoded data removed]",
      "text/plain": [
       "<Figure size 432x288 with 1 Axes>"
      ]
     },
     "metadata": {
      "image/png": {
       "height": 348,
       "width": 352
      }
     },
     "output_type": "display_data"
    }
   ],
   "source": [
    "# check for null values visually \n",
    "sns.heatmap(data1.isnull(), yticklabels=False, cbar=False, cmap='viridis') \n",
    "plt.show()"
   ]
  },
  {
   "cell_type": "code",
   "execution_count": 7,
   "metadata": {},
   "outputs": [
    {
     "data": {
      "text/plain": [
       "Index(['id', 'viewable_product_id', 'created_at', 'quantity', 'user_id',\n",
       "       'removed_at', 'created_by_client_type', 'removed_by_client_type'],\n",
       "      dtype='object')"
      ]
     },
     "execution_count": 7,
     "metadata": {},
     "output_type": "execute_result"
    }
   ],
   "source": [
    "data1.columns"
   ]
  },
  {
   "cell_type": "code",
   "execution_count": 8,
   "metadata": {},
   "outputs": [
    {
     "data": {
      "text/plain": [
       "id                        9967\n",
       "viewable_product_id         18\n",
       "created_at                9967\n",
       "quantity                     4\n",
       "user_id                   7702\n",
       "removed_at                3590\n",
       "created_by_client_type       4\n",
       "removed_by_client_type       3\n",
       "dtype: int64"
      ]
     },
     "execution_count": 8,
     "metadata": {},
     "output_type": "execute_result"
    }
   ],
   "source": [
    "data1.nunique()"
   ]
  },
  {
   "cell_type": "code",
   "execution_count": 9,
   "metadata": {},
   "outputs": [
    {
     "data": {
      "text/plain": [
       "<matplotlib.axes._subplots.AxesSubplot at 0x1ba53afd358>"
      ]
     },
     "execution_count": 9,
     "metadata": {},
     "output_type": "execute_result"
    },
    {
     "data": {
      "image/png": "[encoded data removed]",
      "text/plain": [
       "<Figure size 432x288 with 1 Axes>"
      ]
     },
     "metadata": {
      "image/png": {
       "height": 263,
       "width": 393
      }
     },
     "output_type": "display_data"
    }
   ],
   "source": [
    "sns.countplot(x=data1[\"viewable_product_id\"],data=data1)\n",
    "plt.show()"
   ]
  },
  {
   "cell_type": "code",
   "execution_count": 10,
   "metadata": {},
   "outputs": [
    {
     "data": {
      "text/plain": [
       "<matplotlib.axes._subplots.AxesSubplot at 0x1ba53982a20>"
      ]
     },
     "execution_count": 10,
     "metadata": {},
     "output_type": "execute_result"
    },
    {
     "data": {
      "image/png": "[encoded data removed]",
      "text/plain": [
       "<Figure size 432x288 with 1 Axes>"
      ]
     },
     "metadata": {
      "image/png": {
       "height": 263,
       "width": 398
      }
     },
     "output_type": "display_data"
    }
   ],
   "source": [
    "sns.countplot(x=data1[\"quantity\"],data=data1)\n",
    "plt.show()"
   ]
  },
  {
   "cell_type": "code",
   "execution_count": 11,
   "metadata": {},
   "outputs": [
    {
     "data": {
      "text/plain": [
       "<matplotlib.axes._subplots.AxesSubplot at 0x1ba53a0e860>"
      ]
     },
     "execution_count": 11,
     "metadata": {},
     "output_type": "execute_result"
    },
    {
     "data": {
      "image/png": "[encoded data removed]",
      "text/plain": [
       "<Figure size 432x288 with 1 Axes>"
      ]
     },
     "metadata": {
      "image/png": {
       "height": 263,
       "width": 398
      }
     },
     "output_type": "display_data"
    }
   ],
   "source": [
    "sns.countplot(x=data1[\"created_by_client_type\"],data=data1)\n",
    "plt.show()"
   ]
  },
  {
   "cell_type": "code",
   "execution_count": 12,
   "metadata": {},
   "outputs": [
    {
     "data": {
      "text/plain": [
       "<matplotlib.axes._subplots.AxesSubplot at 0x1ba53975ac8>"
      ]
     },
     "execution_count": 12,
     "metadata": {},
     "output_type": "execute_result"
    },
    {
     "data": {
      "image/png": "[encoded data removed]",
      "text/plain": [
       "<Figure size 432x288 with 1 Axes>"
      ]
     },
     "metadata": {
      "image/png": {
       "height": 264,
       "width": 393
      }
     },
     "output_type": "display_data"
    }
   ],
   "source": [
    "sns.countplot(x=data1[\"removed_by_client_type\"],data=data1)\n",
    "plt.show()"
   ]
  },
  {
   "cell_type": "code",
   "execution_count": 13,
   "metadata": {},
   "outputs": [
    {
     "data": {
      "text/plain": [
       "7702"
      ]
     },
     "execution_count": 13,
     "metadata": {},
     "output_type": "execute_result"
    }
   ],
   "source": [
    "# find the number of unique users \n",
    "\n",
    "data1.user_id.nunique()"
   ]
  },
  {
   "cell_type": "code",
   "execution_count": 14,
   "metadata": {},
   "outputs": [],
   "source": [
    "# find the time period of customer subscriptions \n",
    "# first import datetime libraries \n",
    "import datetime \n",
    "from dateutil import parser "
   ]
  },
  {
   "cell_type": "code",
   "execution_count": 15,
   "metadata": {},
   "outputs": [
    {
     "name": "stdout",
     "output_type": "stream",
     "text": [
      "Earliest Date: 2016-07-22 00:02:21.127000 \n",
      " Latest Date: 2017-02-01 22:54:52.268000 \n",
      " Number of days in between them: 194 days 22:52:31.141000\n"
     ]
    }
   ],
   "source": [
    "# find the time period of customer subscriptions \n",
    "print(\"Earliest Date:\",data1.created_at.min(), \"\\n\", \"Latest Date:\",data1.created_at.max(), \"\\n\",  \\\n",
    "\"Number of days in between them:\", data1.created_at.max() - data1.created_at.min())"
   ]
  },
  {
   "cell_type": "markdown",
   "metadata": {},
   "source": [
    "We are working with 7702 customers who made subscriptions over an approximatly seven month period of time. Since we are interested in the behavior of customers who made more than one subsciprtion, it makes sense to first break up the customer cohort into two groups: those that have more than one `id` associated with them (and thus, more than one subscription), and those that have only one `id` associated with them (and thus made only one subscription). From there, we can zoom in further and look at those who canceled and who remained active and perform time series analysis to answer our original question of interest. "
   ]
  },
  {
   "cell_type": "code",
   "execution_count": 16,
   "metadata": {},
   "outputs": [
    {
     "data": {
      "text/html": [
       "<div>\n",
       "<style scoped>\n",
       "    .dataframe tbody tr th:only-of-type {\n",
       "        vertical-align: middle;\n",
       "    }\n",
       "\n",
       "    .dataframe tbody tr th {\n",
       "        vertical-align: top;\n",
       "    }\n",
       "\n",
       "    .dataframe thead th {\n",
       "        text-align: right;\n",
       "    }\n",
       "</style>\n",
       "<table border=\"1\" class=\"dataframe\">\n",
       "  <thead>\n",
       "    <tr style=\"text-align: right;\">\n",
       "      <th></th>\n",
       "      <th>id</th>\n",
       "      <th>viewable_product_id</th>\n",
       "      <th>created_at</th>\n",
       "      <th>quantity</th>\n",
       "      <th>user_id</th>\n",
       "      <th>removed_at</th>\n",
       "      <th>created_by_client_type</th>\n",
       "      <th>removed_by_client_type</th>\n",
       "    </tr>\n",
       "  </thead>\n",
       "  <tbody>\n",
       "    <tr>\n",
       "      <th>0</th>\n",
       "      <td>1493735</td>\n",
       "      <td>511</td>\n",
       "      <td>2016-07-28 12:34:42.906</td>\n",
       "      <td>1</td>\n",
       "      <td>36867</td>\n",
       "      <td>NaT</td>\n",
       "      <td>www</td>\n",
       "      <td>NaN</td>\n",
       "    </tr>\n",
       "    <tr>\n",
       "      <th>1</th>\n",
       "      <td>1607724</td>\n",
       "      <td>490</td>\n",
       "      <td>2016-08-28 19:00:06.840</td>\n",
       "      <td>1</td>\n",
       "      <td>42060</td>\n",
       "      <td>NaT</td>\n",
       "      <td>www</td>\n",
       "      <td>NaN</td>\n",
       "    </tr>\n",
       "    <tr>\n",
       "      <th>2</th>\n",
       "      <td>1539095</td>\n",
       "      <td>511</td>\n",
       "      <td>2016-08-10 20:02:59.016</td>\n",
       "      <td>1</td>\n",
       "      <td>52992</td>\n",
       "      <td>2016-12-05 21:31:19.158</td>\n",
       "      <td>www</td>\n",
       "      <td>www</td>\n",
       "    </tr>\n",
       "    <tr>\n",
       "      <th>3</th>\n",
       "      <td>1515988</td>\n",
       "      <td>511</td>\n",
       "      <td>2016-08-04 12:47:41.972</td>\n",
       "      <td>1</td>\n",
       "      <td>65654</td>\n",
       "      <td>2016-09-12 11:20:09.225</td>\n",
       "      <td>www</td>\n",
       "      <td>www</td>\n",
       "    </tr>\n",
       "    <tr>\n",
       "      <th>4</th>\n",
       "      <td>1495173</td>\n",
       "      <td>511</td>\n",
       "      <td>2016-07-28 19:49:50.478</td>\n",
       "      <td>1</td>\n",
       "      <td>95304</td>\n",
       "      <td>NaT</td>\n",
       "      <td>www</td>\n",
       "      <td>NaN</td>\n",
       "    </tr>\n",
       "  </tbody>\n",
       "</table>\n",
       "</div>"
      ],
      "text/plain": [
       "        id  viewable_product_id              created_at  quantity  user_id  \\\n",
       "0  1493735                  511 2016-07-28 12:34:42.906         1    36867   \n",
       "1  1607724                  490 2016-08-28 19:00:06.840         1    42060   \n",
       "2  1539095                  511 2016-08-10 20:02:59.016         1    52992   \n",
       "3  1515988                  511 2016-08-04 12:47:41.972         1    65654   \n",
       "4  1495173                  511 2016-07-28 19:49:50.478         1    95304   \n",
       "\n",
       "               removed_at created_by_client_type removed_by_client_type  \n",
       "0                     NaT                    www                    NaN  \n",
       "1                     NaT                    www                    NaN  \n",
       "2 2016-12-05 21:31:19.158                    www                    www  \n",
       "3 2016-09-12 11:20:09.225                    www                    www  \n",
       "4                     NaT                    www                    NaN  "
      ]
     },
     "execution_count": 16,
     "metadata": {},
     "output_type": "execute_result"
    }
   ],
   "source": [
    "# lets look at the df and find a way to index and segment to achieve this \n",
    "data1.head()"
   ]
  },
  {
   "cell_type": "code",
   "execution_count": 17,
   "metadata": {},
   "outputs": [
    {
     "data": {
      "text/plain": [
       "9967"
      ]
     },
     "execution_count": 17,
     "metadata": {},
     "output_type": "execute_result"
    }
   ],
   "source": [
    "# verify that id is unique for each row, there should be 9967 unique transactions if it is\n",
    "data1.id.nunique()"
   ]
  },
  {
   "cell_type": "code",
   "execution_count": 25,
   "metadata": {},
   "outputs": [],
   "source": [
    "# Creates table with each customer having a row for each unique subscription id\n",
    "cust_sub_table = data1.drop_duplicates(['user_id', 'id'])[['user_id', 'id']]\n",
    "\n",
    "# Get number of subscriptions per customer\n",
    "cust_sub_count = cust_sub_table.groupby(['user_id']).count().reset_index()\n",
    "\n",
    "# Get customers with only one subscription\n",
    "one_sub_cust = cust_sub_count.query('id == 1')"
   ]
  },
  {
   "cell_type": "code",
   "execution_count": 32,
   "metadata": {},
   "outputs": [
    {
     "data": {
      "text/html": [
       "<div>\n",
       "<style scoped>\n",
       "    .dataframe tbody tr th:only-of-type {\n",
       "        vertical-align: middle;\n",
       "    }\n",
       "\n",
       "    .dataframe tbody tr th {\n",
       "        vertical-align: top;\n",
       "    }\n",
       "\n",
       "    .dataframe thead th {\n",
       "        text-align: right;\n",
       "    }\n",
       "</style>\n",
       "<table border=\"1\" class=\"dataframe\">\n",
       "  <thead>\n",
       "    <tr style=\"text-align: right;\">\n",
       "      <th></th>\n",
       "      <th>user_id</th>\n",
       "      <th>id</th>\n",
       "    </tr>\n",
       "  </thead>\n",
       "  <tbody>\n",
       "    <tr>\n",
       "      <th>0</th>\n",
       "      <td>968</td>\n",
       "      <td>1</td>\n",
       "    </tr>\n",
       "    <tr>\n",
       "      <th>1</th>\n",
       "      <td>5404</td>\n",
       "      <td>1</td>\n",
       "    </tr>\n",
       "    <tr>\n",
       "      <th>2</th>\n",
       "      <td>7938</td>\n",
       "      <td>1</td>\n",
       "    </tr>\n",
       "    <tr>\n",
       "      <th>3</th>\n",
       "      <td>17951</td>\n",
       "      <td>5</td>\n",
       "    </tr>\n",
       "    <tr>\n",
       "      <th>4</th>\n",
       "      <td>19323</td>\n",
       "      <td>2</td>\n",
       "    </tr>\n",
       "  </tbody>\n",
       "</table>\n",
       "</div>"
      ],
      "text/plain": [
       "   user_id  id\n",
       "0      968   1\n",
       "1     5404   1\n",
       "2     7938   1\n",
       "3    17951   5\n",
       "4    19323   2"
      ]
     },
     "execution_count": 32,
     "metadata": {},
     "output_type": "execute_result"
    }
   ],
   "source": [
    "cust_sub_count.head()"
   ]
  },
  {
   "cell_type": "code",
   "execution_count": 33,
   "metadata": {},
   "outputs": [
    {
     "data": {
      "text/html": [
       "<div>\n",
       "<style scoped>\n",
       "    .dataframe tbody tr th:only-of-type {\n",
       "        vertical-align: middle;\n",
       "    }\n",
       "\n",
       "    .dataframe tbody tr th {\n",
       "        vertical-align: top;\n",
       "    }\n",
       "\n",
       "    .dataframe thead th {\n",
       "        text-align: right;\n",
       "    }\n",
       "</style>\n",
       "<table border=\"1\" class=\"dataframe\">\n",
       "  <thead>\n",
       "    <tr style=\"text-align: right;\">\n",
       "      <th></th>\n",
       "      <th>user_id</th>\n",
       "      <th>id</th>\n",
       "    </tr>\n",
       "  </thead>\n",
       "  <tbody>\n",
       "    <tr>\n",
       "      <th>0</th>\n",
       "      <td>968</td>\n",
       "      <td>1</td>\n",
       "    </tr>\n",
       "    <tr>\n",
       "      <th>1</th>\n",
       "      <td>5404</td>\n",
       "      <td>1</td>\n",
       "    </tr>\n",
       "    <tr>\n",
       "      <th>2</th>\n",
       "      <td>7938</td>\n",
       "      <td>1</td>\n",
       "    </tr>\n",
       "    <tr>\n",
       "      <th>5</th>\n",
       "      <td>19468</td>\n",
       "      <td>1</td>\n",
       "    </tr>\n",
       "    <tr>\n",
       "      <th>6</th>\n",
       "      <td>20407</td>\n",
       "      <td>1</td>\n",
       "    </tr>\n",
       "  </tbody>\n",
       "</table>\n",
       "</div>"
      ],
      "text/plain": [
       "   user_id  id\n",
       "0      968   1\n",
       "1     5404   1\n",
       "2     7938   1\n",
       "5    19468   1\n",
       "6    20407   1"
      ]
     },
     "execution_count": 33,
     "metadata": {},
     "output_type": "execute_result"
    }
   ],
   "source": [
    "one_sub_cust.head()"
   ]
  },
  {
   "cell_type": "code",
   "execution_count": 30,
   "metadata": {},
   "outputs": [
    {
     "data": {
      "text/plain": [
       "<matplotlib.axes._subplots.AxesSubplot at 0x1ba5259de10>"
      ]
     },
     "execution_count": 30,
     "metadata": {},
     "output_type": "execute_result"
    },
    {
     "data": {
      "image/png": "[encoded data removed]",
      "text/plain": [
       "<Figure size 432x288 with 1 Axes>"
      ]
     },
     "metadata": {
      "image/png": {
       "height": 250,
       "width": 368
      }
     },
     "output_type": "display_data"
    }
   ],
   "source": [
    "cust_sub_count.id.value_counts().plot(kind='barh')"
   ]
  },
  {
   "cell_type": "code",
   "execution_count": 31,
   "metadata": {},
   "outputs": [
    {
     "data": {
      "text/plain": [
       "1     6627\n",
       "2      541\n",
       "3      258\n",
       "4      133\n",
       "5       55\n",
       "6       39\n",
       "7       15\n",
       "9       11\n",
       "8        9\n",
       "10       6\n",
       "11       4\n",
       "15       1\n",
       "20       1\n",
       "16       1\n",
       "12       1\n",
       "Name: id, dtype: int64"
      ]
     },
     "execution_count": 31,
     "metadata": {},
     "output_type": "execute_result"
    }
   ],
   "source": [
    "cust_sub_count.id.value_counts()"
   ]
  },
  {
   "cell_type": "code",
   "execution_count": 36,
   "metadata": {},
   "outputs": [],
   "source": [
    "# create excels \n",
    "cust_sub_count.to_excel(\"cust_sub_count.xlsx\")"
   ]
  },
  {
   "cell_type": "code",
   "execution_count": 38,
   "metadata": {},
   "outputs": [],
   "source": [
    "one_sub_cust.to_excel(\"one_sub_cust.xlsx\")"
   ]
  },
  {
   "cell_type": "code",
   "execution_count": 39,
   "metadata": {},
   "outputs": [],
   "source": [
    "# data path\n",
    "datapath2 = \"harrys_updated.xlsx\""
   ]
  },
  {
   "cell_type": "code",
   "execution_count": 40,
   "metadata": {},
   "outputs": [],
   "source": [
    "# load the excel data into a dataframe\n",
    "data2 = pd.read_excel(datapath2)"
   ]
  },
  {
   "cell_type": "code",
   "execution_count": 41,
   "metadata": {},
   "outputs": [
    {
     "name": "stdout",
     "output_type": "stream",
     "text": [
      "Dataframe dimensions: (9967, 9)\n"
     ]
    },
    {
     "data": {
      "text/html": [
       "<div>\n",
       "<style scoped>\n",
       "    .dataframe tbody tr th:only-of-type {\n",
       "        vertical-align: middle;\n",
       "    }\n",
       "\n",
       "    .dataframe tbody tr th {\n",
       "        vertical-align: top;\n",
       "    }\n",
       "\n",
       "    .dataframe thead th {\n",
       "        text-align: right;\n",
       "    }\n",
       "</style>\n",
       "<table border=\"1\" class=\"dataframe\">\n",
       "  <thead>\n",
       "    <tr style=\"text-align: right;\">\n",
       "      <th></th>\n",
       "      <th>id</th>\n",
       "      <th>viewable_product_id</th>\n",
       "      <th>created_at</th>\n",
       "      <th>quantity</th>\n",
       "      <th>user_id</th>\n",
       "      <th>removed_at</th>\n",
       "      <th>created_by_client_type</th>\n",
       "      <th>removed_by_client_type</th>\n",
       "      <th>cust_sub_count</th>\n",
       "    </tr>\n",
       "  </thead>\n",
       "  <tbody>\n",
       "    <tr>\n",
       "      <th>column type</th>\n",
       "      <td>int64</td>\n",
       "      <td>int64</td>\n",
       "      <td>datetime64[ns]</td>\n",
       "      <td>int64</td>\n",
       "      <td>int64</td>\n",
       "      <td>datetime64[ns]</td>\n",
       "      <td>object</td>\n",
       "      <td>object</td>\n",
       "      <td>int64</td>\n",
       "    </tr>\n",
       "    <tr>\n",
       "      <th>null values (nb)</th>\n",
       "      <td>0</td>\n",
       "      <td>0</td>\n",
       "      <td>0</td>\n",
       "      <td>0</td>\n",
       "      <td>0</td>\n",
       "      <td>6372</td>\n",
       "      <td>0</td>\n",
       "      <td>6449</td>\n",
       "      <td>0</td>\n",
       "    </tr>\n",
       "    <tr>\n",
       "      <th>null values (%)</th>\n",
       "      <td>0</td>\n",
       "      <td>0</td>\n",
       "      <td>0</td>\n",
       "      <td>0</td>\n",
       "      <td>0</td>\n",
       "      <td>63.931</td>\n",
       "      <td>0</td>\n",
       "      <td>64.7035</td>\n",
       "      <td>0</td>\n",
       "    </tr>\n",
       "  </tbody>\n",
       "</table>\n",
       "</div>"
      ],
      "text/plain": [
       "                     id viewable_product_id      created_at quantity user_id  \\\n",
       "column type       int64               int64  datetime64[ns]    int64   int64   \n",
       "null values (nb)      0                   0               0        0       0   \n",
       "null values (%)       0                   0               0        0       0   \n",
       "\n",
       "                      removed_at created_by_client_type  \\\n",
       "column type       datetime64[ns]                 object   \n",
       "null values (nb)            6372                      0   \n",
       "null values (%)           63.931                      0   \n",
       "\n",
       "                 removed_by_client_type cust_sub_count  \n",
       "column type                      object          int64  \n",
       "null values (nb)                   6449              0  \n",
       "null values (%)                 64.7035              0  "
      ]
     },
     "metadata": {},
     "output_type": "display_data"
    },
    {
     "data": {
      "text/html": [
       "<div>\n",
       "<style scoped>\n",
       "    .dataframe tbody tr th:only-of-type {\n",
       "        vertical-align: middle;\n",
       "    }\n",
       "\n",
       "    .dataframe tbody tr th {\n",
       "        vertical-align: top;\n",
       "    }\n",
       "\n",
       "    .dataframe thead th {\n",
       "        text-align: right;\n",
       "    }\n",
       "</style>\n",
       "<table border=\"1\" class=\"dataframe\">\n",
       "  <thead>\n",
       "    <tr style=\"text-align: right;\">\n",
       "      <th></th>\n",
       "      <th>id</th>\n",
       "      <th>viewable_product_id</th>\n",
       "      <th>created_at</th>\n",
       "      <th>quantity</th>\n",
       "      <th>user_id</th>\n",
       "      <th>removed_at</th>\n",
       "      <th>created_by_client_type</th>\n",
       "      <th>removed_by_client_type</th>\n",
       "      <th>cust_sub_count</th>\n",
       "    </tr>\n",
       "  </thead>\n",
       "  <tbody>\n",
       "    <tr>\n",
       "      <th>0</th>\n",
       "      <td>1493735</td>\n",
       "      <td>511</td>\n",
       "      <td>2016-07-28 12:34:42.906</td>\n",
       "      <td>1</td>\n",
       "      <td>36867</td>\n",
       "      <td>NaT</td>\n",
       "      <td>www</td>\n",
       "      <td>NaN</td>\n",
       "      <td>1</td>\n",
       "    </tr>\n",
       "    <tr>\n",
       "      <th>1</th>\n",
       "      <td>1607724</td>\n",
       "      <td>490</td>\n",
       "      <td>2016-08-28 19:00:06.840</td>\n",
       "      <td>1</td>\n",
       "      <td>42060</td>\n",
       "      <td>NaT</td>\n",
       "      <td>www</td>\n",
       "      <td>NaN</td>\n",
       "      <td>1</td>\n",
       "    </tr>\n",
       "  </tbody>\n",
       "</table>\n",
       "</div>"
      ],
      "text/plain": [
       "        id  viewable_product_id              created_at  quantity  user_id  \\\n",
       "0  1493735                  511 2016-07-28 12:34:42.906         1    36867   \n",
       "1  1607724                  490 2016-08-28 19:00:06.840         1    42060   \n",
       "\n",
       "  removed_at created_by_client_type removed_by_client_type  cust_sub_count  \n",
       "0        NaT                    www                    NaN               1  \n",
       "1        NaT                    www                    NaN               1  "
      ]
     },
     "metadata": {},
     "output_type": "display_data"
    }
   ],
   "source": [
    "# get info on the data\n",
    "print('Dataframe dimensions:', data2.shape)\n",
    "tab_info=pd.DataFrame(data2.dtypes).T.rename(index={0:'column type'})\n",
    "tab_info=tab_info.append(pd.DataFrame(data2.isnull().sum()).T.rename(index={0:'null values (nb)'}))\n",
    "tab_info=tab_info.append(pd.DataFrame(data2.isnull().sum()/data2.shape[0]*100).T.\n",
    "                         rename(index={0:'null values (%)'}))\n",
    "display(tab_info)\n",
    "display(data2[:2])"
   ]
  },
  {
   "cell_type": "code",
   "execution_count": null,
   "metadata": {},
   "outputs": [],
   "source": []
  }
 ],
 "metadata": {
  "kernelspec": {
   "display_name": "Python 3",
   "language": "python",
   "name": "python3"
  },
  "language_info": {
   "codemirror_mode": {
    "name": "ipython",
    "version": 3
   },
   "file_extension": ".py",
   "mimetype": "text/x-python",
   "name": "python",
   "nbconvert_exporter": "python",
   "pygments_lexer": "ipython3",
   "version": "3.6.5"
  }
 },
 "nbformat": 4,
 "nbformat_minor": 2
}
